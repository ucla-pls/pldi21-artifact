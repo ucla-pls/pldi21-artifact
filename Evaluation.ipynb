{
 "cells": [
  {
   "cell_type": "code",
   "execution_count": null,
   "metadata": {},
   "outputs": [],
   "source": [
    "import pandas as pd\n",
    "import matplotlib.pyplot as plt\n",
    "import numpy as np\n",
    "from pathlib import Path"
   ]
  },
  {
   "cell_type": "code",
   "execution_count": null,
   "metadata": {},
   "outputs": [],
   "source": [
    "results = pd.read_csv(\"result/result.csv\")\n",
    "results = results.set_index([\"name\", \"predicate\",\"strategy\"])"
   ]
  },
  {
   "cell_type": "code",
   "execution_count": null,
   "metadata": {},
   "outputs": [],
   "source": [
    "results[results.verify != \"success\"]"
   ]
  },
  {
   "cell_type": "code",
   "execution_count": null,
   "metadata": {},
   "outputs": [],
   "source": [
    "def investigate(name, predicate, strategy):\n",
    "    folder = Path(\"result\") / name / predicate / strategy / \"workfolder\"\n",
    "    final = folder / \"final/sandbox\" / predicate \n",
    "    print((final / \"compiler.out.txt\").read_text())\n",
    "    for f in final.glob(\"src/**/*.java\"):\n",
    "        print(f)\n",
    "        print(f.read_text())\n",
    "        \n",
    "    print(\"=======\")\n",
    "    \n",
    "    print((folder / \"initial/sandbox\" / predicate / \"src/mi/task/FlattenTask.java\").read_text())\n",
    "    \n",
    "    v = results.loc[(name, predicate, strategy)].verify\n",
    "    if v != \"success\":\n",
    "        a = set((folder / \"reduction\" / v / \"stdout\").read_text().splitlines())\n",
    "        b = set((folder / \"initial\" / \"stdout\").read_text().splitlines())\n",
    "        \n",
    "        print (a - b)\n",
    "        \n",
    "        # print(folder / \"reduction\" / v / \"sandbox\" / predicate / \"src\" / \"mi/regex/GroupRegex.java\")\n",
    "        # print( (folder / \"reduction\" / v / \"sandbox\" / predicate / \"src\" / \"mi/regex/GroupRegex.java\").read_text())\n",
    "        # print( (folder / \"initial/sandbox\" / predicate / \"src\" / \"mi/regex/GroupRegex.java\").read_text())\n",
    "        \n",
    "\n",
    "investigate(\"url0067cdd33d_goldolphin_Mi\", \"fernflower\", \"deep+i2m\")\n",
    "\n"
   ]
  },
  {
   "cell_type": "code",
   "execution_count": null,
   "metadata": {},
   "outputs": [],
   "source": [
    "success = results.status.apply(lambda x: x == \"success\").groupby([\"name\", \"predicate\"]).all()\n",
    "\n",
    "fig, ax = plt.subplots(figsize=(7,7))\n",
    "x = results.status.value_counts().plot.pie()"
   ]
  },
  {
   "cell_type": "code",
   "execution_count": null,
   "metadata": {},
   "outputs": [],
   "source": [
    "fig, axes = plt.subplots(1, 2, figsize=(14,7), sharey=True)\n",
    "\n",
    "metrics = [ \"bytes\", \"classes\" ] \n",
    "\n",
    "sucessfull = results[success[results.index]]\n",
    "\n",
    "labels = [f\"{a}:{b}\" for a, b in sucessfull.unstack(\"strategy\").index]\n",
    "x = np.arange(len(labels))\n",
    "total_width = 0.75\n",
    "  \n",
    "for metric, ax in zip(metrics, list(axes)): \n",
    "    m = sucessfull[metric].unstack(\"strategy\")\n",
    "    rest = 1 / m.drop([\"classes\"], axis=1).div(m.classes, axis=0, level=0)\n",
    "\n",
    "    width = total_width / len(rest.columns)\n",
    "   \n",
    "    minx, maxx = 1, 0\n",
    "    for n, i in enumerate(rest.columns):\n",
    "        offset = x - (total_width/2 - width*n - width/2)\n",
    "        ax.barh(offset,\n",
    "                [ 1 - x if x < 1 else x - 1 for x in rest[i] ], \n",
    "                height=width * 0.75, \n",
    "                left=[min(x, 1) for x in rest[i]], \n",
    "                label=i)\n",
    "        minx = min(minx, rest[i].min())\n",
    "        maxx = max(maxx, rest[i].max())\n",
    "\n",
    "        \n",
    "    ax.set_ylim(-total_width, len(labels) -1 + total_width)\n",
    "    ax.set_xlabel(metric)\n",
    "    ax.set_xlim(minx/2,maxx*2)\n",
    "    ax.set_xscale(\"log\")\n",
    "    #ax.set_xticks([1/64, 1/32, 1/16, 1/8, 1/4, 1/2, 1,2, 4, 8])\n",
    "    ax.xaxis.set_major_locator(plt.LogLocator(10))\n",
    "    ax.xaxis.set_major_formatter(plt.FuncFormatter(lambda x, y: f\"{1/x}x\")) #plt.LogFormatterMathtext(2))\n",
    "    #ax.set_xticklabels([1/8, 1/4, 1/2,1,2, 4, 8])\n",
    "   \n",
    "    ax.axvline(1, ls='-', color='lightgray', lw=1)\n",
    "\n",
    "    for spine in ax.spines.values():\n",
    "        spine.set_visible(False)\n",
    "\n",
    "    ax.spines[\"left\"].set_position((\"outward\", 5))\n",
    "    ax.spines[\"bottom\"].set_position((\"outward\", 5))\n",
    "\n",
    "ax.set_yticks(x)\n",
    "ax.set_yticklabels(labels)\n",
    "    \n",
    "ax.legend()\n",
    "fig.tight_layout()"
   ]
  },
  {
   "cell_type": "code",
   "execution_count": null,
   "metadata": {},
   "outputs": [],
   "source": [
    "for i in set((i[0], i[1]) for i in results[success[results.index] != True].index):\n",
    "    print(f\"{i[0]}/{i[1]}\")"
   ]
  },
  {
   "cell_type": "code",
   "execution_count": null,
   "metadata": {},
   "outputs": [],
   "source": [
    "fig, axes = plt.subplots(2, 2, figsize=(9,7), sharey=True)\n",
    "\n",
    "for lb, ax in zip([\"time\", \"iters\", \"bytes\", \"classes\"], axes.flatten()):\n",
    "    maxx = 0\n",
    "    x = results[success[results.index]][lb].unstack(\"strategy\")\n",
    "    for key in [\"deep\", \"deep+m2m\", \"deep+i2m\", \"classes\"]:\n",
    "        ax.plot(sorted(x[key]), [i + 1 for i,_ in enumerate(x[key])], label=key)\n",
    "        maxx = max(maxx, max(x[key]))\n",
    "        \n",
    "    ylim = 1, len(x[key])\n",
    "    ax.set_yticks(np.linspace(*ylim, 6))\n",
    "    ax.set_ylim(*ylim)\n",
    "    \n",
    "    if lb == \"time\":\n",
    "        xlim = 0, 3600\n",
    "    else:\n",
    "        xlim = 0, maxx\n",
    "    ax.set_xticks(np.linspace(*xlim, 5))\n",
    "    ax.set_xlim(*xlim)\n",
    "    \n",
    "    if lb == \"bytes\":\n",
    "        ax.xaxis.set_major_formatter(plt.FuncFormatter(lambda x, pos: f'{x/1000:0.0f} Kb'))\n",
    "    elif lb == \"time\" :\n",
    "        ax.xaxis.set_major_formatter(plt.FuncFormatter(lambda x, pos: f'{x:0.0f} s'))\n",
    "    else:\n",
    "        ax.xaxis.set_major_formatter(plt.FuncFormatter(lambda x, pos: f'{x:0.0f}'))\n",
    "    \n",
    "    ax.set_xlabel(lb)    \n",
    "    \n",
    "    ax.spines['right'].set_visible(False)\n",
    "    ax.spines['top'].set_visible(False)\n",
    "    \n",
    "    for spine in [ax.spines['left'], ax.spines['bottom']]:\n",
    "        spine.set_position((\"outward\", 5))\n",
    "        spine.set_color(\"gray\")\n",
    "        \n",
    "    for axis in [ax.yaxis, ax.xaxis]:\n",
    "        for x in axis.get_major_ticks():\n",
    "            x.label1.set_color(\"gray\")\n",
    "            x.tick1line.set_color(\"gray\")\n",
    "\n",
    "ax.legend()\n",
    "fig.tight_layout()"
   ]
  },
  {
   "cell_type": "code",
   "execution_count": null,
   "metadata": {},
   "outputs": [],
   "source": [
    "results[success[results.index]].unstack(\"strategy\")[\"bugs\"][\"classes\"]"
   ]
  },
  {
   "cell_type": "code",
   "execution_count": null,
   "metadata": {},
   "outputs": [],
   "source": [
    "results.loc[\"urlde8e6ba918_Michael_Heinzelmann_IT_Consulting_dog4sql\"]"
   ]
  },
  {
   "cell_type": "code",
   "execution_count": null,
   "metadata": {},
   "outputs": [],
   "source": [
    "metrics = pd.read_csv(\"result/urlde8e6ba918_Michael_Heinzelmann_IT_Consulting_dog4sql/procyon/reduce/deep/workfolder/metrics.csv\")\n",
    "\n",
    "fig, axes = plt.subplots(2, 1, figsize=(7,7), sharex=True)\n",
    "\n",
    "\n",
    "for key, ax in zip([\"setup time\", \"run time\"], axes):\n",
    "    ax.scatter(metrics.bytes, metrics[key])\n",
    "    ax.yaxis.set_major_formatter(plt.FuncFormatter(lambda x, pos: f'{x:0.1f} s'))\n",
    "    ax.set_xlim(0, metrics.bytes.max() * 1.1)\n",
    "    ax.set_ylim(0, metrics[key].max() * 1.1)\n",
    "    ax.spines['right'].set_visible(False)\n",
    "    ax.spines['top'].set_visible(False)\n",
    "    \n",
    "    for spine in [ax.spines['left'], ax.spines['bottom']]:\n",
    "        spine.set_position((\"outward\", 5))\n",
    "        spine.set_color(\"gray\")\n",
    "        \n",
    "    for axis in [ax.yaxis, ax.xaxis]:\n",
    "        for x in axis.get_major_ticks():\n",
    "            x.label1.set_color(\"gray\")\n",
    "            x.tick1line.set_color(\"gray\")\n",
    "    \n",
    "ax1.xaxis.set_major_formatter(plt.FuncFormatter(lambda x, pos: f'{x/1000:0.0f} Kb'))\n",
    "\n",
    "fig.tight_layout()"
   ]
  },
  {
   "cell_type": "code",
   "execution_count": null,
   "metadata": {},
   "outputs": [],
   "source": []
  }
 ],
 "metadata": {
  "language_info": {
   "name": "python",
   "pygments_lexer": "ipython3"
  }
 },
 "nbformat": 4,
 "nbformat_minor": 2
}
